{
  "nbformat": 4,
  "nbformat_minor": 0,
  "metadata": {
    "colab": {
      "provenance": [],
      "authorship_tag": "ABX9TyPS4ipbUQ27loVhkzkr4HWM",
      "include_colab_link": true
    },
    "kernelspec": {
      "name": "python3",
      "display_name": "Python 3"
    },
    "language_info": {
      "name": "python"
    }
  },
  "cells": [
    {
      "cell_type": "markdown",
      "metadata": {
        "id": "view-in-github",
        "colab_type": "text"
      },
      "source": [
        "<a href=\"https://colab.research.google.com/github/FizaAnwar/pfsintern/blob/main/Customer_Segmentation_or_E_commerce.ipynb\" target=\"_parent\"><img src=\"https://colab.research.google.com/assets/colab-badge.svg\" alt=\"Open In Colab\"/></a>"
      ]
    },
    {
      "cell_type": "markdown",
      "source": [
        "Importing the Dependencies"
      ],
      "metadata": {
        "id": "KiFCs8LJH6pU"
      }
    },
    {
      "cell_type": "code",
      "source": [
        "import numpy as np\n",
        "import pandas as pd\n",
        "import matplotlib.pyplot as plt\n",
        "import seaborn as sns\n",
        "from sklearn.cluster import KMeans"
      ],
      "metadata": {
        "id": "HQ2rYKa3H6JH"
      },
      "execution_count": null,
      "outputs": []
    },
    {
      "cell_type": "markdown",
      "source": [
        "Data Collection & Analysis"
      ],
      "metadata": {
        "id": "X2CrGvcaInDZ"
      }
    },
    {
      "cell_type": "code",
      "execution_count": null,
      "metadata": {
        "id": "NALhBgj0Heb8"
      },
      "outputs": [],
      "source": [
        "# loading the data from csv file to pandas dataframe\n",
        "customer_data = pd.read_csv('/content/E-commerce Customer Behavior - Sheet1.csv')"
      ]
    },
    {
      "cell_type": "code",
      "source": [
        "#first five rows\n",
        "customer_data.head()"
      ],
      "metadata": {
        "colab": {
          "base_uri": "https://localhost:8080/",
          "height": 241
        },
        "id": "0lCquJ4QJfk4",
        "outputId": "479f20ea-7bdf-487c-9e02-5a2e51ea0b3a"
      },
      "execution_count": null,
      "outputs": [
        {
          "output_type": "execute_result",
          "data": {
            "text/plain": [
              "   Customer ID  Gender  Age           City Membership Type  Total Spend  \\\n",
              "0          101  Female   29       New York            Gold      1120.20   \n",
              "1          102    Male   34    Los Angeles          Silver       780.50   \n",
              "2          103  Female   43        Chicago          Bronze       510.75   \n",
              "3          104    Male   30  San Francisco            Gold      1480.30   \n",
              "4          105    Male   27          Miami          Silver       720.40   \n",
              "\n",
              "   Items Purchased  Average Rating  Discount Applied  \\\n",
              "0               14             4.6              True   \n",
              "1               11             4.1             False   \n",
              "2                9             3.4              True   \n",
              "3               19             4.7             False   \n",
              "4               13             4.0              True   \n",
              "\n",
              "   Days Since Last Purchase Satisfaction Level  \n",
              "0                        25          Satisfied  \n",
              "1                        18            Neutral  \n",
              "2                        42        Unsatisfied  \n",
              "3                        12          Satisfied  \n",
              "4                        55        Unsatisfied  "
            ],
            "text/html": [
              "\n",
              "  <div id=\"df-b6a73e87-b18d-43b1-812b-661cffa94d7e\" class=\"colab-df-container\">\n",
              "    <div>\n",
              "<style scoped>\n",
              "    .dataframe tbody tr th:only-of-type {\n",
              "        vertical-align: middle;\n",
              "    }\n",
              "\n",
              "    .dataframe tbody tr th {\n",
              "        vertical-align: top;\n",
              "    }\n",
              "\n",
              "    .dataframe thead th {\n",
              "        text-align: right;\n",
              "    }\n",
              "</style>\n",
              "<table border=\"1\" class=\"dataframe\">\n",
              "  <thead>\n",
              "    <tr style=\"text-align: right;\">\n",
              "      <th></th>\n",
              "      <th>Customer ID</th>\n",
              "      <th>Gender</th>\n",
              "      <th>Age</th>\n",
              "      <th>City</th>\n",
              "      <th>Membership Type</th>\n",
              "      <th>Total Spend</th>\n",
              "      <th>Items Purchased</th>\n",
              "      <th>Average Rating</th>\n",
              "      <th>Discount Applied</th>\n",
              "      <th>Days Since Last Purchase</th>\n",
              "      <th>Satisfaction Level</th>\n",
              "    </tr>\n",
              "  </thead>\n",
              "  <tbody>\n",
              "    <tr>\n",
              "      <th>0</th>\n",
              "      <td>101</td>\n",
              "      <td>Female</td>\n",
              "      <td>29</td>\n",
              "      <td>New York</td>\n",
              "      <td>Gold</td>\n",
              "      <td>1120.20</td>\n",
              "      <td>14</td>\n",
              "      <td>4.6</td>\n",
              "      <td>True</td>\n",
              "      <td>25</td>\n",
              "      <td>Satisfied</td>\n",
              "    </tr>\n",
              "    <tr>\n",
              "      <th>1</th>\n",
              "      <td>102</td>\n",
              "      <td>Male</td>\n",
              "      <td>34</td>\n",
              "      <td>Los Angeles</td>\n",
              "      <td>Silver</td>\n",
              "      <td>780.50</td>\n",
              "      <td>11</td>\n",
              "      <td>4.1</td>\n",
              "      <td>False</td>\n",
              "      <td>18</td>\n",
              "      <td>Neutral</td>\n",
              "    </tr>\n",
              "    <tr>\n",
              "      <th>2</th>\n",
              "      <td>103</td>\n",
              "      <td>Female</td>\n",
              "      <td>43</td>\n",
              "      <td>Chicago</td>\n",
              "      <td>Bronze</td>\n",
              "      <td>510.75</td>\n",
              "      <td>9</td>\n",
              "      <td>3.4</td>\n",
              "      <td>True</td>\n",
              "      <td>42</td>\n",
              "      <td>Unsatisfied</td>\n",
              "    </tr>\n",
              "    <tr>\n",
              "      <th>3</th>\n",
              "      <td>104</td>\n",
              "      <td>Male</td>\n",
              "      <td>30</td>\n",
              "      <td>San Francisco</td>\n",
              "      <td>Gold</td>\n",
              "      <td>1480.30</td>\n",
              "      <td>19</td>\n",
              "      <td>4.7</td>\n",
              "      <td>False</td>\n",
              "      <td>12</td>\n",
              "      <td>Satisfied</td>\n",
              "    </tr>\n",
              "    <tr>\n",
              "      <th>4</th>\n",
              "      <td>105</td>\n",
              "      <td>Male</td>\n",
              "      <td>27</td>\n",
              "      <td>Miami</td>\n",
              "      <td>Silver</td>\n",
              "      <td>720.40</td>\n",
              "      <td>13</td>\n",
              "      <td>4.0</td>\n",
              "      <td>True</td>\n",
              "      <td>55</td>\n",
              "      <td>Unsatisfied</td>\n",
              "    </tr>\n",
              "  </tbody>\n",
              "</table>\n",
              "</div>\n",
              "    <div class=\"colab-df-buttons\">\n",
              "\n",
              "  <div class=\"colab-df-container\">\n",
              "    <button class=\"colab-df-convert\" onclick=\"convertToInteractive('df-b6a73e87-b18d-43b1-812b-661cffa94d7e')\"\n",
              "            title=\"Convert this dataframe to an interactive table.\"\n",
              "            style=\"display:none;\">\n",
              "\n",
              "  <svg xmlns=\"http://www.w3.org/2000/svg\" height=\"24px\" viewBox=\"0 -960 960 960\">\n",
              "    <path d=\"M120-120v-720h720v720H120Zm60-500h600v-160H180v160Zm220 220h160v-160H400v160Zm0 220h160v-160H400v160ZM180-400h160v-160H180v160Zm440 0h160v-160H620v160ZM180-180h160v-160H180v160Zm440 0h160v-160H620v160Z\"/>\n",
              "  </svg>\n",
              "    </button>\n",
              "\n",
              "  <style>\n",
              "    .colab-df-container {\n",
              "      display:flex;\n",
              "      gap: 12px;\n",
              "    }\n",
              "\n",
              "    .colab-df-convert {\n",
              "      background-color: #E8F0FE;\n",
              "      border: none;\n",
              "      border-radius: 50%;\n",
              "      cursor: pointer;\n",
              "      display: none;\n",
              "      fill: #1967D2;\n",
              "      height: 32px;\n",
              "      padding: 0 0 0 0;\n",
              "      width: 32px;\n",
              "    }\n",
              "\n",
              "    .colab-df-convert:hover {\n",
              "      background-color: #E2EBFA;\n",
              "      box-shadow: 0px 1px 2px rgba(60, 64, 67, 0.3), 0px 1px 3px 1px rgba(60, 64, 67, 0.15);\n",
              "      fill: #174EA6;\n",
              "    }\n",
              "\n",
              "    .colab-df-buttons div {\n",
              "      margin-bottom: 4px;\n",
              "    }\n",
              "\n",
              "    [theme=dark] .colab-df-convert {\n",
              "      background-color: #3B4455;\n",
              "      fill: #D2E3FC;\n",
              "    }\n",
              "\n",
              "    [theme=dark] .colab-df-convert:hover {\n",
              "      background-color: #434B5C;\n",
              "      box-shadow: 0px 1px 3px 1px rgba(0, 0, 0, 0.15);\n",
              "      filter: drop-shadow(0px 1px 2px rgba(0, 0, 0, 0.3));\n",
              "      fill: #FFFFFF;\n",
              "    }\n",
              "  </style>\n",
              "\n",
              "    <script>\n",
              "      const buttonEl =\n",
              "        document.querySelector('#df-b6a73e87-b18d-43b1-812b-661cffa94d7e button.colab-df-convert');\n",
              "      buttonEl.style.display =\n",
              "        google.colab.kernel.accessAllowed ? 'block' : 'none';\n",
              "\n",
              "      async function convertToInteractive(key) {\n",
              "        const element = document.querySelector('#df-b6a73e87-b18d-43b1-812b-661cffa94d7e');\n",
              "        const dataTable =\n",
              "          await google.colab.kernel.invokeFunction('convertToInteractive',\n",
              "                                                    [key], {});\n",
              "        if (!dataTable) return;\n",
              "\n",
              "        const docLinkHtml = 'Like what you see? Visit the ' +\n",
              "          '<a target=\"_blank\" href=https://colab.research.google.com/notebooks/data_table.ipynb>data table notebook</a>'\n",
              "          + ' to learn more about interactive tables.';\n",
              "        element.innerHTML = '';\n",
              "        dataTable['output_type'] = 'display_data';\n",
              "        await google.colab.output.renderOutput(dataTable, element);\n",
              "        const docLink = document.createElement('div');\n",
              "        docLink.innerHTML = docLinkHtml;\n",
              "        element.appendChild(docLink);\n",
              "      }\n",
              "    </script>\n",
              "  </div>\n",
              "\n",
              "\n",
              "<div id=\"df-f91c2f8e-1b7e-4e1b-8bfd-b3aa471b64d5\">\n",
              "  <button class=\"colab-df-quickchart\" onclick=\"quickchart('df-f91c2f8e-1b7e-4e1b-8bfd-b3aa471b64d5')\"\n",
              "            title=\"Suggest charts\"\n",
              "            style=\"display:none;\">\n",
              "\n",
              "<svg xmlns=\"http://www.w3.org/2000/svg\" height=\"24px\"viewBox=\"0 0 24 24\"\n",
              "     width=\"24px\">\n",
              "    <g>\n",
              "        <path d=\"M19 3H5c-1.1 0-2 .9-2 2v14c0 1.1.9 2 2 2h14c1.1 0 2-.9 2-2V5c0-1.1-.9-2-2-2zM9 17H7v-7h2v7zm4 0h-2V7h2v10zm4 0h-2v-4h2v4z\"/>\n",
              "    </g>\n",
              "</svg>\n",
              "  </button>\n",
              "\n",
              "<style>\n",
              "  .colab-df-quickchart {\n",
              "      --bg-color: #E8F0FE;\n",
              "      --fill-color: #1967D2;\n",
              "      --hover-bg-color: #E2EBFA;\n",
              "      --hover-fill-color: #174EA6;\n",
              "      --disabled-fill-color: #AAA;\n",
              "      --disabled-bg-color: #DDD;\n",
              "  }\n",
              "\n",
              "  [theme=dark] .colab-df-quickchart {\n",
              "      --bg-color: #3B4455;\n",
              "      --fill-color: #D2E3FC;\n",
              "      --hover-bg-color: #434B5C;\n",
              "      --hover-fill-color: #FFFFFF;\n",
              "      --disabled-bg-color: #3B4455;\n",
              "      --disabled-fill-color: #666;\n",
              "  }\n",
              "\n",
              "  .colab-df-quickchart {\n",
              "    background-color: var(--bg-color);\n",
              "    border: none;\n",
              "    border-radius: 50%;\n",
              "    cursor: pointer;\n",
              "    display: none;\n",
              "    fill: var(--fill-color);\n",
              "    height: 32px;\n",
              "    padding: 0;\n",
              "    width: 32px;\n",
              "  }\n",
              "\n",
              "  .colab-df-quickchart:hover {\n",
              "    background-color: var(--hover-bg-color);\n",
              "    box-shadow: 0 1px 2px rgba(60, 64, 67, 0.3), 0 1px 3px 1px rgba(60, 64, 67, 0.15);\n",
              "    fill: var(--button-hover-fill-color);\n",
              "  }\n",
              "\n",
              "  .colab-df-quickchart-complete:disabled,\n",
              "  .colab-df-quickchart-complete:disabled:hover {\n",
              "    background-color: var(--disabled-bg-color);\n",
              "    fill: var(--disabled-fill-color);\n",
              "    box-shadow: none;\n",
              "  }\n",
              "\n",
              "  .colab-df-spinner {\n",
              "    border: 2px solid var(--fill-color);\n",
              "    border-color: transparent;\n",
              "    border-bottom-color: var(--fill-color);\n",
              "    animation:\n",
              "      spin 1s steps(1) infinite;\n",
              "  }\n",
              "\n",
              "  @keyframes spin {\n",
              "    0% {\n",
              "      border-color: transparent;\n",
              "      border-bottom-color: var(--fill-color);\n",
              "      border-left-color: var(--fill-color);\n",
              "    }\n",
              "    20% {\n",
              "      border-color: transparent;\n",
              "      border-left-color: var(--fill-color);\n",
              "      border-top-color: var(--fill-color);\n",
              "    }\n",
              "    30% {\n",
              "      border-color: transparent;\n",
              "      border-left-color: var(--fill-color);\n",
              "      border-top-color: var(--fill-color);\n",
              "      border-right-color: var(--fill-color);\n",
              "    }\n",
              "    40% {\n",
              "      border-color: transparent;\n",
              "      border-right-color: var(--fill-color);\n",
              "      border-top-color: var(--fill-color);\n",
              "    }\n",
              "    60% {\n",
              "      border-color: transparent;\n",
              "      border-right-color: var(--fill-color);\n",
              "    }\n",
              "    80% {\n",
              "      border-color: transparent;\n",
              "      border-right-color: var(--fill-color);\n",
              "      border-bottom-color: var(--fill-color);\n",
              "    }\n",
              "    90% {\n",
              "      border-color: transparent;\n",
              "      border-bottom-color: var(--fill-color);\n",
              "    }\n",
              "  }\n",
              "</style>\n",
              "\n",
              "  <script>\n",
              "    async function quickchart(key) {\n",
              "      const quickchartButtonEl =\n",
              "        document.querySelector('#' + key + ' button');\n",
              "      quickchartButtonEl.disabled = true;  // To prevent multiple clicks.\n",
              "      quickchartButtonEl.classList.add('colab-df-spinner');\n",
              "      try {\n",
              "        const charts = await google.colab.kernel.invokeFunction(\n",
              "            'suggestCharts', [key], {});\n",
              "      } catch (error) {\n",
              "        console.error('Error during call to suggestCharts:', error);\n",
              "      }\n",
              "      quickchartButtonEl.classList.remove('colab-df-spinner');\n",
              "      quickchartButtonEl.classList.add('colab-df-quickchart-complete');\n",
              "    }\n",
              "    (() => {\n",
              "      let quickchartButtonEl =\n",
              "        document.querySelector('#df-f91c2f8e-1b7e-4e1b-8bfd-b3aa471b64d5 button');\n",
              "      quickchartButtonEl.style.display =\n",
              "        google.colab.kernel.accessAllowed ? 'block' : 'none';\n",
              "    })();\n",
              "  </script>\n",
              "</div>\n",
              "\n",
              "    </div>\n",
              "  </div>\n"
            ],
            "application/vnd.google.colaboratory.intrinsic+json": {
              "type": "dataframe",
              "variable_name": "customer_data",
              "summary": "{\n  \"name\": \"customer_data\",\n  \"rows\": 350,\n  \"fields\": [\n    {\n      \"column\": \"Customer ID\",\n      \"properties\": {\n        \"dtype\": \"number\",\n        \"std\": 101,\n        \"min\": 101,\n        \"max\": 450,\n        \"num_unique_values\": 350,\n        \"samples\": [\n          258,\n          442,\n          416\n        ],\n        \"semantic_type\": \"\",\n        \"description\": \"\"\n      }\n    },\n    {\n      \"column\": \"Gender\",\n      \"properties\": {\n        \"dtype\": \"category\",\n        \"num_unique_values\": 2,\n        \"samples\": [\n          \"Male\",\n          \"Female\"\n        ],\n        \"semantic_type\": \"\",\n        \"description\": \"\"\n      }\n    },\n    {\n      \"column\": \"Age\",\n      \"properties\": {\n        \"dtype\": \"number\",\n        \"std\": 4,\n        \"min\": 26,\n        \"max\": 43,\n        \"num_unique_values\": 16,\n        \"samples\": [\n          29,\n          34\n        ],\n        \"semantic_type\": \"\",\n        \"description\": \"\"\n      }\n    },\n    {\n      \"column\": \"City\",\n      \"properties\": {\n        \"dtype\": \"category\",\n        \"num_unique_values\": 6,\n        \"samples\": [\n          \"New York\",\n          \"Los Angeles\"\n        ],\n        \"semantic_type\": \"\",\n        \"description\": \"\"\n      }\n    },\n    {\n      \"column\": \"Membership Type\",\n      \"properties\": {\n        \"dtype\": \"category\",\n        \"num_unique_values\": 3,\n        \"samples\": [\n          \"Gold\",\n          \"Silver\"\n        ],\n        \"semantic_type\": \"\",\n        \"description\": \"\"\n      }\n    },\n    {\n      \"column\": \"Total Spend\",\n      \"properties\": {\n        \"dtype\": \"number\",\n        \"std\": 362.0586953474657,\n        \"min\": 410.8,\n        \"max\": 1520.1,\n        \"num_unique_values\": 76,\n        \"samples\": [\n          720.4,\n          440.9\n        ],\n        \"semantic_type\": \"\",\n        \"description\": \"\"\n      }\n    },\n    {\n      \"column\": \"Items Purchased\",\n      \"properties\": {\n        \"dtype\": \"number\",\n        \"std\": 4,\n        \"min\": 7,\n        \"max\": 21,\n        \"num_unique_values\": 15,\n        \"samples\": [\n          21,\n          16\n        ],\n        \"semantic_type\": \"\",\n        \"description\": \"\"\n      }\n    },\n    {\n      \"column\": \"Average Rating\",\n      \"properties\": {\n        \"dtype\": \"number\",\n        \"std\": 0.5805385871469686,\n        \"min\": 3.0,\n        \"max\": 4.9,\n        \"num_unique_values\": 20,\n        \"samples\": [\n          4.6,\n          3.0\n        ],\n        \"semantic_type\": \"\",\n        \"description\": \"\"\n      }\n    },\n    {\n      \"column\": \"Discount Applied\",\n      \"properties\": {\n        \"dtype\": \"boolean\",\n        \"num_unique_values\": 2,\n        \"samples\": [\n          false,\n          true\n        ],\n        \"semantic_type\": \"\",\n        \"description\": \"\"\n      }\n    },\n    {\n      \"column\": \"Days Since Last Purchase\",\n      \"properties\": {\n        \"dtype\": \"number\",\n        \"std\": 13,\n        \"min\": 9,\n        \"max\": 63,\n        \"num_unique_values\": 54,\n        \"samples\": [\n          41,\n          60\n        ],\n        \"semantic_type\": \"\",\n        \"description\": \"\"\n      }\n    },\n    {\n      \"column\": \"Satisfaction Level\",\n      \"properties\": {\n        \"dtype\": \"category\",\n        \"num_unique_values\": 3,\n        \"samples\": [\n          \"Satisfied\",\n          \"Neutral\"\n        ],\n        \"semantic_type\": \"\",\n        \"description\": \"\"\n      }\n    }\n  ]\n}"
            }
          },
          "metadata": {},
          "execution_count": 3
        }
      ]
    },
    {
      "cell_type": "code",
      "source": [
        "# finding no of rows and columns\n",
        "customer_data.shape"
      ],
      "metadata": {
        "colab": {
          "base_uri": "https://localhost:8080/"
        },
        "id": "xK_ySfdmJsE5",
        "outputId": "aacfe219-8e61-46bc-dbab-3b3397fabd5b"
      },
      "execution_count": null,
      "outputs": [
        {
          "output_type": "execute_result",
          "data": {
            "text/plain": [
              "(350, 11)"
            ]
          },
          "metadata": {},
          "execution_count": 4
        }
      ]
    },
    {
      "cell_type": "code",
      "source": [
        "# geeting info about dataset\n",
        "customer_data.info()"
      ],
      "metadata": {
        "colab": {
          "base_uri": "https://localhost:8080/"
        },
        "id": "7398KIVMKGWD",
        "outputId": "f0ca11d5-e2b7-40a3-9260-2e76de938fe2"
      },
      "execution_count": null,
      "outputs": [
        {
          "output_type": "stream",
          "name": "stdout",
          "text": [
            "<class 'pandas.core.frame.DataFrame'>\n",
            "RangeIndex: 350 entries, 0 to 349\n",
            "Data columns (total 11 columns):\n",
            " #   Column                    Non-Null Count  Dtype  \n",
            "---  ------                    --------------  -----  \n",
            " 0   Customer ID               350 non-null    int64  \n",
            " 1   Gender                    350 non-null    object \n",
            " 2   Age                       350 non-null    int64  \n",
            " 3   City                      350 non-null    object \n",
            " 4   Membership Type           350 non-null    object \n",
            " 5   Total Spend               350 non-null    float64\n",
            " 6   Items Purchased           350 non-null    int64  \n",
            " 7   Average Rating            350 non-null    float64\n",
            " 8   Discount Applied          350 non-null    bool   \n",
            " 9   Days Since Last Purchase  350 non-null    int64  \n",
            " 10  Satisfaction Level        348 non-null    object \n",
            "dtypes: bool(1), float64(2), int64(4), object(4)\n",
            "memory usage: 27.8+ KB\n"
          ]
        }
      ]
    },
    {
      "cell_type": "code",
      "source": [
        "# checking missing values\n",
        "customer_data.isnull().sum()"
      ],
      "metadata": {
        "colab": {
          "base_uri": "https://localhost:8080/"
        },
        "id": "WoxAGsV_KWOt",
        "outputId": "dc86bacf-1165-4172-9ee3-a762d4429da6"
      },
      "execution_count": null,
      "outputs": [
        {
          "output_type": "execute_result",
          "data": {
            "text/plain": [
              "Customer ID                 0\n",
              "Gender                      0\n",
              "Age                         0\n",
              "City                        0\n",
              "Membership Type             0\n",
              "Total Spend                 0\n",
              "Items Purchased             0\n",
              "Average Rating              0\n",
              "Discount Applied            0\n",
              "Days Since Last Purchase    0\n",
              "Satisfaction Level          2\n",
              "dtype: int64"
            ]
          },
          "metadata": {},
          "execution_count": 6
        }
      ]
    },
    {
      "cell_type": "code",
      "source": [
        "# filling the missing values\n",
        "customer_data['Satisfaction Level'].fillna(customer_data['Satisfaction Level'].mode()[0], inplace=True)"
      ],
      "metadata": {
        "id": "vQIiMb8IK91l"
      },
      "execution_count": null,
      "outputs": []
    },
    {
      "cell_type": "code",
      "source": [
        "# again checking missing values\n",
        "customer_data.isnull().sum()"
      ],
      "metadata": {
        "colab": {
          "base_uri": "https://localhost:8080/"
        },
        "id": "CTeZRnH_LSzD",
        "outputId": "b40e813b-87f1-47da-b7d0-9a4d186de9df"
      },
      "execution_count": null,
      "outputs": [
        {
          "output_type": "execute_result",
          "data": {
            "text/plain": [
              "Customer ID                 0\n",
              "Gender                      0\n",
              "Age                         0\n",
              "City                        0\n",
              "Membership Type             0\n",
              "Total Spend                 0\n",
              "Items Purchased             0\n",
              "Average Rating              0\n",
              "Discount Applied            0\n",
              "Days Since Last Purchase    0\n",
              "Satisfaction Level          0\n",
              "dtype: int64"
            ]
          },
          "metadata": {},
          "execution_count": 8
        }
      ]
    },
    {
      "cell_type": "markdown",
      "source": [
        "choosing total spend and purchase item columns"
      ],
      "metadata": {
        "id": "Ao_wj8evLrDy"
      }
    },
    {
      "cell_type": "code",
      "source": [
        "X = customer_data.iloc[:,[5,6]] .values"
      ],
      "metadata": {
        "id": "jkg_lDQKLYjh"
      },
      "execution_count": null,
      "outputs": []
    },
    {
      "cell_type": "code",
      "source": [
        "print(X)"
      ],
      "metadata": {
        "colab": {
          "base_uri": "https://localhost:8080/"
        },
        "id": "2IzAEZH0Ndp-",
        "outputId": "6762e7db-106a-4cca-f22a-afead0cdabcd"
      },
      "execution_count": null,
      "outputs": [
        {
          "output_type": "stream",
          "name": "stdout",
          "text": [
            "[[1120.2    14.  ]\n",
            " [ 780.5    11.  ]\n",
            " [ 510.75    9.  ]\n",
            " [1480.3    19.  ]\n",
            " [ 720.4    13.  ]\n",
            " [ 440.8     8.  ]\n",
            " [1150.6    15.  ]\n",
            " [ 800.9    12.  ]\n",
            " [ 495.25   10.  ]\n",
            " [1520.1    21.  ]\n",
            " [ 690.3    11.  ]\n",
            " [ 470.5     7.  ]\n",
            " [1200.8    16.  ]\n",
            " [ 820.75   13.  ]\n",
            " [ 530.4     9.  ]\n",
            " [1360.2    18.  ]\n",
            " [ 700.6    12.  ]\n",
            " [ 450.9     8.  ]\n",
            " [1170.3    14.  ]\n",
            " [ 790.2    11.  ]\n",
            " [ 505.75   10.  ]\n",
            " [1470.5    20.  ]\n",
            " [ 710.4    13.  ]\n",
            " [ 430.8     7.  ]\n",
            " [1140.6    15.  ]\n",
            " [ 810.9    12.  ]\n",
            " [ 485.25    9.  ]\n",
            " [1500.1    21.  ]\n",
            " [ 670.3    10.  ]\n",
            " [ 460.5     8.  ]\n",
            " [1190.8    16.  ]\n",
            " [ 830.75   13.  ]\n",
            " [ 520.4     9.  ]\n",
            " [1370.2    18.  ]\n",
            " [ 690.6    12.  ]\n",
            " [ 440.9     8.  ]\n",
            " [1160.3    14.  ]\n",
            " [ 800.2    11.  ]\n",
            " [ 500.75   10.  ]\n",
            " [1460.5    20.  ]\n",
            " [ 700.4    13.  ]\n",
            " [ 420.8     7.  ]\n",
            " [1130.6    15.  ]\n",
            " [ 820.9    12.  ]\n",
            " [ 480.25    9.  ]\n",
            " [1490.1    21.  ]\n",
            " [ 680.3    10.  ]\n",
            " [ 470.5     8.  ]\n",
            " [1180.8    16.  ]\n",
            " [ 790.2    11.  ]\n",
            " [ 505.75   10.  ]\n",
            " [1470.5    20.  ]\n",
            " [ 710.4    13.  ]\n",
            " [ 430.8     7.  ]\n",
            " [1140.6    15.  ]\n",
            " [ 810.9    12.  ]\n",
            " [ 485.25    9.  ]\n",
            " [1500.1    21.  ]\n",
            " [ 670.3    10.  ]\n",
            " [ 460.5     8.  ]\n",
            " [1190.8    16.  ]\n",
            " [ 830.75   13.  ]\n",
            " [ 520.4     9.  ]\n",
            " [1370.2    18.  ]\n",
            " [ 690.6    12.  ]\n",
            " [ 440.9     8.  ]\n",
            " [1160.3    14.  ]\n",
            " [ 800.2    11.  ]\n",
            " [ 500.75   10.  ]\n",
            " [1460.5    20.  ]\n",
            " [ 700.4    13.  ]\n",
            " [ 420.8     7.  ]\n",
            " [1130.6    15.  ]\n",
            " [ 820.9    12.  ]\n",
            " [ 480.25    9.  ]\n",
            " [1490.1    21.  ]\n",
            " [ 680.3    10.  ]\n",
            " [ 470.5     8.  ]\n",
            " [1180.8    16.  ]\n",
            " [ 790.2    11.  ]\n",
            " [ 505.75   10.  ]\n",
            " [1470.5    20.  ]\n",
            " [ 710.4    13.  ]\n",
            " [ 430.8     7.  ]\n",
            " [1140.6    15.  ]\n",
            " [ 810.9    12.  ]\n",
            " [ 485.25    9.  ]\n",
            " [1500.1    21.  ]\n",
            " [ 670.3    10.  ]\n",
            " [ 460.5     8.  ]\n",
            " [1190.8    16.  ]\n",
            " [ 830.75   13.  ]\n",
            " [ 520.4     9.  ]\n",
            " [1370.2    18.  ]\n",
            " [ 690.6    12.  ]\n",
            " [ 440.9     8.  ]\n",
            " [1160.3    14.  ]\n",
            " [ 800.2    11.  ]\n",
            " [ 500.75   10.  ]\n",
            " [1460.5    20.  ]\n",
            " [ 700.4    13.  ]\n",
            " [ 420.8     7.  ]\n",
            " [1130.6    15.  ]\n",
            " [ 820.9    12.  ]\n",
            " [ 480.25    9.  ]\n",
            " [1490.1    21.  ]\n",
            " [ 680.3    10.  ]\n",
            " [ 470.5     8.  ]\n",
            " [1180.8    16.  ]\n",
            " [ 790.2    11.  ]\n",
            " [ 505.75   10.  ]\n",
            " [1470.5    20.  ]\n",
            " [ 710.4    13.  ]\n",
            " [ 430.8     7.  ]\n",
            " [1140.6    15.  ]\n",
            " [ 810.9    12.  ]\n",
            " [ 485.25    9.  ]\n",
            " [1500.1    21.  ]\n",
            " [ 670.3    10.  ]\n",
            " [ 460.5     8.  ]\n",
            " [1190.8    16.  ]\n",
            " [ 830.75   13.  ]\n",
            " [ 520.4     9.  ]\n",
            " [1370.2    18.  ]\n",
            " [ 690.6    12.  ]\n",
            " [ 440.9     8.  ]\n",
            " [1160.3    14.  ]\n",
            " [ 800.2    11.  ]\n",
            " [ 500.75   10.  ]\n",
            " [1460.5    20.  ]\n",
            " [ 700.4    13.  ]\n",
            " [ 420.8     7.  ]\n",
            " [1130.6    15.  ]\n",
            " [ 820.9    12.  ]\n",
            " [ 480.25    9.  ]\n",
            " [1490.1    21.  ]\n",
            " [ 680.3    10.  ]\n",
            " [ 470.5     8.  ]\n",
            " [1180.8    16.  ]\n",
            " [ 790.2    11.  ]\n",
            " [ 505.75   10.  ]\n",
            " [1470.5    20.  ]\n",
            " [ 710.4    13.  ]\n",
            " [ 430.8     7.  ]\n",
            " [1130.6    15.  ]\n",
            " [ 820.9    12.  ]\n",
            " [ 480.25    9.  ]\n",
            " [1490.1    21.  ]\n",
            " [ 680.3    10.  ]\n",
            " [ 470.5     8.  ]\n",
            " [1180.8    16.  ]\n",
            " [ 790.2    11.  ]\n",
            " [ 505.75   10.  ]\n",
            " [1470.5    20.  ]\n",
            " [ 710.4    13.  ]\n",
            " [ 430.8     7.  ]\n",
            " [1140.6    15.  ]\n",
            " [ 810.9    12.  ]\n",
            " [ 485.25    9.  ]\n",
            " [1500.1    21.  ]\n",
            " [ 670.3    10.  ]\n",
            " [ 460.5     8.  ]\n",
            " [1190.8    16.  ]\n",
            " [ 830.75   13.  ]\n",
            " [ 520.4     9.  ]\n",
            " [1370.2    18.  ]\n",
            " [ 690.6    12.  ]\n",
            " [ 440.9     8.  ]\n",
            " [1160.3    14.  ]\n",
            " [ 800.2    11.  ]\n",
            " [ 500.75   10.  ]\n",
            " [1460.5    20.  ]\n",
            " [ 700.4    13.  ]\n",
            " [ 430.8     7.  ]\n",
            " [1140.6    15.  ]\n",
            " [ 820.9    12.  ]\n",
            " [ 480.25    9.  ]\n",
            " [1490.1    21.  ]\n",
            " [ 680.3    10.  ]\n",
            " [ 470.5     8.  ]\n",
            " [1180.8    16.  ]\n",
            " [ 790.2    11.  ]\n",
            " [ 505.75   10.  ]\n",
            " [1470.5    20.  ]\n",
            " [ 710.4    13.  ]\n",
            " [ 430.8     7.  ]\n",
            " [1130.6    15.  ]\n",
            " [ 820.9    12.  ]\n",
            " [ 485.25    9.  ]\n",
            " [1500.1    21.  ]\n",
            " [ 670.3    10.  ]\n",
            " [ 460.5     8.  ]\n",
            " [1190.8    16.  ]\n",
            " [ 830.75   13.  ]\n",
            " [ 520.4     9.  ]\n",
            " [1370.2    18.  ]\n",
            " [ 690.6    12.  ]\n",
            " [ 440.9     8.  ]\n",
            " [1160.3    14.  ]\n",
            " [ 800.2    11.  ]\n",
            " [1420.8    19.  ]\n",
            " [ 730.4    14.  ]\n",
            " [ 450.6     7.  ]\n",
            " [1210.6    17.  ]\n",
            " [ 780.9    11.  ]\n",
            " [ 495.25   10.  ]\n",
            " [1390.2    18.  ]\n",
            " [ 670.6    12.  ]\n",
            " [ 460.9     8.  ]\n",
            " [1170.3    14.  ]\n",
            " [ 810.2    11.  ]\n",
            " [ 515.75    9.  ]\n",
            " [1450.5    20.  ]\n",
            " [ 690.4    13.  ]\n",
            " [ 420.8     7.  ]\n",
            " [1130.6    15.  ]\n",
            " [ 820.9    12.  ]\n",
            " [ 480.25    9.  ]\n",
            " [1490.1    21.  ]\n",
            " [ 680.3    10.  ]\n",
            " [ 470.5     8.  ]\n",
            " [1180.8    16.  ]\n",
            " [ 790.2    11.  ]\n",
            " [ 505.75   10.  ]\n",
            " [1470.5    20.  ]\n",
            " [ 710.4    13.  ]\n",
            " [ 430.8     7.  ]\n",
            " [1140.6    15.  ]\n",
            " [ 820.9    12.  ]\n",
            " [ 485.25    9.  ]\n",
            " [1500.1    21.  ]\n",
            " [ 670.3    10.  ]\n",
            " [ 460.5     8.  ]\n",
            " [1190.8    16.  ]\n",
            " [ 830.75   13.  ]\n",
            " [ 520.4     9.  ]\n",
            " [1370.2    18.  ]\n",
            " [ 690.6    12.  ]\n",
            " [ 440.9     8.  ]\n",
            " [1160.3    14.  ]\n",
            " [ 800.2    11.  ]\n",
            " [ 525.75    9.  ]\n",
            " [1460.5    20.  ]\n",
            " [ 720.4    13.  ]\n",
            " [ 440.8     7.  ]\n",
            " [1150.6    15.  ]\n",
            " [ 830.9    12.  ]\n",
            " [ 490.25    9.  ]\n",
            " [1480.1    21.  ]\n",
            " [ 690.3    10.  ]\n",
            " [ 480.5     8.  ]\n",
            " [1170.8    16.  ]\n",
            " [ 790.2    11.  ]\n",
            " [ 510.75   10.  ]\n",
            " [1440.5    19.  ]\n",
            " [ 700.4    13.  ]\n",
            " [ 410.8     7.  ]\n",
            " [1160.6    15.  ]\n",
            " [ 810.9    12.  ]\n",
            " [ 495.25    9.  ]\n",
            " [1490.1    21.  ]\n",
            " [ 660.3    10.  ]\n",
            " [ 430.5     8.  ]\n",
            " [1200.8    16.  ]\n",
            " [ 780.2    11.  ]\n",
            " [ 505.75   10.  ]\n",
            " [1460.5    20.  ]\n",
            " [ 710.4    13.  ]\n",
            " [ 450.8     7.  ]\n",
            " [1140.6    15.  ]\n",
            " [ 800.9    12.  ]\n",
            " [ 475.25    9.  ]\n",
            " [1480.1    21.  ]\n",
            " [ 660.3    10.  ]\n",
            " [ 470.5     8.  ]\n",
            " [1190.8    16.  ]\n",
            " [ 770.2    11.  ]\n",
            " [ 515.75   10.  ]\n",
            " [1450.5    19.  ]\n",
            " [ 710.4    13.  ]\n",
            " [ 430.8     7.  ]\n",
            " [1160.6    15.  ]\n",
            " [ 820.9    12.  ]\n",
            " [ 495.25    9.  ]\n",
            " [1490.1    21.  ]\n",
            " [ 660.3    10.  ]\n",
            " [ 440.5     8.  ]\n",
            " [1200.8    16.  ]\n",
            " [ 780.2    11.  ]\n",
            " [ 505.75   10.  ]\n",
            " [1460.5    20.  ]\n",
            " [ 710.4    13.  ]\n",
            " [ 450.8     7.  ]\n",
            " [1140.6    15.  ]\n",
            " [ 800.9    12.  ]\n",
            " [ 475.25    9.  ]\n",
            " [1480.1    21.  ]\n",
            " [ 660.3    10.  ]\n",
            " [ 470.5     8.  ]\n",
            " [1190.8    16.  ]\n",
            " [ 800.2    11.  ]\n",
            " [ 515.75   10.  ]\n",
            " [1450.5    19.  ]\n",
            " [ 710.4    13.  ]\n",
            " [ 430.8     7.  ]\n",
            " [1160.6    15.  ]\n",
            " [ 820.9    12.  ]\n",
            " [ 495.25    9.  ]\n",
            " [1490.1    21.  ]\n",
            " [ 660.3    10.  ]\n",
            " [ 440.5     8.  ]\n",
            " [1200.8    16.  ]\n",
            " [ 780.2    11.  ]\n",
            " [ 505.75   10.  ]\n",
            " [1460.5    20.  ]\n",
            " [ 710.4    13.  ]\n",
            " [ 450.8     7.  ]\n",
            " [1140.6    15.  ]\n",
            " [ 800.9    12.  ]\n",
            " [ 475.25    9.  ]\n",
            " [1480.1    21.  ]\n",
            " [ 660.3    10.  ]\n",
            " [ 470.5     8.  ]\n",
            " [1190.8    16.  ]\n",
            " [ 780.2    11.  ]\n",
            " [ 515.75   10.  ]\n",
            " [1450.5    19.  ]\n",
            " [ 710.4    13.  ]\n",
            " [ 430.8     7.  ]\n",
            " [1160.6    15.  ]\n",
            " [ 820.9    12.  ]\n",
            " [ 495.25    9.  ]\n",
            " [1490.1    21.  ]\n",
            " [ 660.3    10.  ]\n",
            " [ 440.5     8.  ]\n",
            " [1200.8    16.  ]\n",
            " [ 780.2    11.  ]\n",
            " [ 505.75   10.  ]\n",
            " [1460.5    20.  ]\n",
            " [ 710.4    13.  ]\n",
            " [ 450.8     7.  ]\n",
            " [1140.6    15.  ]\n",
            " [ 800.9    12.  ]\n",
            " [ 475.25    9.  ]\n",
            " [1480.1    21.  ]\n",
            " [ 660.3    10.  ]\n",
            " [ 470.5     8.  ]\n",
            " [1190.8    16.  ]\n",
            " [ 780.2    11.  ]\n",
            " [ 515.75   10.  ]]\n"
          ]
        }
      ]
    },
    {
      "cell_type": "markdown",
      "source": [
        "Choosing Number of Clusters"
      ],
      "metadata": {
        "id": "8ABVWlCdOrAG"
      }
    },
    {
      "cell_type": "markdown",
      "source": [
        "WCSS _ Within Clusters Sum of Squares"
      ],
      "metadata": {
        "id": "1iuX6sauOkKB"
      }
    },
    {
      "cell_type": "code",
      "source": [
        "# finding wcss value for different clusters\n",
        "wcss=[]\n",
        "for i in range(1,11):\n",
        "  kmeans = KMeans(n_clusters=i, init='k-means++', random_state=42)\n",
        "  kmeans.fit(X)\n",
        "\n",
        "  wcss.append(kmeans.inertia_)"
      ],
      "metadata": {
        "colab": {
          "base_uri": "https://localhost:8080/"
        },
        "id": "5G2xAiBDOEfC",
        "outputId": "fd92c4b5-c518-479a-cda3-3300e8feb280"
      },
      "execution_count": null,
      "outputs": [
        {
          "output_type": "stream",
          "name": "stderr",
          "text": [
            "/usr/local/lib/python3.10/dist-packages/sklearn/cluster/_kmeans.py:870: FutureWarning: The default value of `n_init` will change from 10 to 'auto' in 1.4. Set the value of `n_init` explicitly to suppress the warning\n",
            "  warnings.warn(\n",
            "/usr/local/lib/python3.10/dist-packages/sklearn/cluster/_kmeans.py:870: FutureWarning: The default value of `n_init` will change from 10 to 'auto' in 1.4. Set the value of `n_init` explicitly to suppress the warning\n",
            "  warnings.warn(\n",
            "/usr/local/lib/python3.10/dist-packages/sklearn/cluster/_kmeans.py:870: FutureWarning: The default value of `n_init` will change from 10 to 'auto' in 1.4. Set the value of `n_init` explicitly to suppress the warning\n",
            "  warnings.warn(\n",
            "/usr/local/lib/python3.10/dist-packages/sklearn/cluster/_kmeans.py:870: FutureWarning: The default value of `n_init` will change from 10 to 'auto' in 1.4. Set the value of `n_init` explicitly to suppress the warning\n",
            "  warnings.warn(\n",
            "/usr/local/lib/python3.10/dist-packages/sklearn/cluster/_kmeans.py:870: FutureWarning: The default value of `n_init` will change from 10 to 'auto' in 1.4. Set the value of `n_init` explicitly to suppress the warning\n",
            "  warnings.warn(\n",
            "/usr/local/lib/python3.10/dist-packages/sklearn/cluster/_kmeans.py:870: FutureWarning: The default value of `n_init` will change from 10 to 'auto' in 1.4. Set the value of `n_init` explicitly to suppress the warning\n",
            "  warnings.warn(\n",
            "/usr/local/lib/python3.10/dist-packages/sklearn/cluster/_kmeans.py:870: FutureWarning: The default value of `n_init` will change from 10 to 'auto' in 1.4. Set the value of `n_init` explicitly to suppress the warning\n",
            "  warnings.warn(\n",
            "/usr/local/lib/python3.10/dist-packages/sklearn/cluster/_kmeans.py:870: FutureWarning: The default value of `n_init` will change from 10 to 'auto' in 1.4. Set the value of `n_init` explicitly to suppress the warning\n",
            "  warnings.warn(\n",
            "/usr/local/lib/python3.10/dist-packages/sklearn/cluster/_kmeans.py:870: FutureWarning: The default value of `n_init` will change from 10 to 'auto' in 1.4. Set the value of `n_init` explicitly to suppress the warning\n",
            "  warnings.warn(\n",
            "/usr/local/lib/python3.10/dist-packages/sklearn/cluster/_kmeans.py:870: FutureWarning: The default value of `n_init` will change from 10 to 'auto' in 1.4. Set the value of `n_init` explicitly to suppress the warning\n",
            "  warnings.warn(\n"
          ]
        }
      ]
    },
    {
      "cell_type": "code",
      "source": [
        "# plot elbow graph\n",
        "sns.set()\n",
        "plt.plot(range(1,11), wcss)\n",
        "plt.title('The Elbow Point Graph')\n",
        "plt.xlabel('Number of Clusters')\n",
        "plt.ylabel('WCSS')\n",
        "plt.show()"
      ],
      "metadata": {
        "colab": {
          "base_uri": "https://localhost:8080/",
          "height": 480
        },
        "id": "lTdSfu62QTP5",
        "outputId": "6b19bba4-49b4-4d03-bc8c-8f3507dbc4dc"
      },
      "execution_count": null,
      "outputs": [
        {
          "output_type": "display_data",
          "data": {
            "text/plain": [
              "<Figure size 640x480 with 1 Axes>"
            ],
            "image/png": "[encoded data removed]"
          },
          "metadata": {}
        }
      ]
    },
    {
      "cell_type": "markdown",
      "source": [
        "Optimum number of cluster is = 4"
      ],
      "metadata": {
        "id": "GdJJwuljRBZn"
      }
    },
    {
      "cell_type": "markdown",
      "source": [
        "Training K-Mean Cluster model"
      ],
      "metadata": {
        "id": "f-g7QTKwRKgZ"
      }
    },
    {
      "cell_type": "code",
      "source": [
        "kmeans = KMeans(n_clusters=4, init='k-means++', random_state=0)\n",
        "\n",
        "# return a label for each datapoint based on thier cluster\n",
        "Y=kmeans.fit_predict(X)\n",
        "\n",
        "print(Y)\n"
      ],
      "metadata": {
        "colab": {
          "base_uri": "https://localhost:8080/"
        },
        "id": "X5enzDqAQgTK",
        "outputId": "0bb423bc-dace-43b8-8ea6-71b20a2c8363"
      },
      "execution_count": null,
      "outputs": [
        {
          "output_type": "stream",
          "name": "stdout",
          "text": [
            "[2 0 3 1 0 3 2 0 3 1 0 3 2 0 3 1 0 3 2 0 3 1 0 3 2 0 3 1 0 3 2 0 3 1 0 3 2\n",
            " 0 3 1 0 3 2 0 3 1 0 3 2 0 3 1 0 3 2 0 3 1 0 3 2 0 3 1 0 3 2 0 3 1 0 3 2 0\n",
            " 3 1 0 3 2 0 3 1 0 3 2 0 3 1 0 3 2 0 3 1 0 3 2 0 3 1 0 3 2 0 3 1 0 3 2 0 3\n",
            " 1 0 3 2 0 3 1 0 3 2 0 3 1 0 3 2 0 3 1 0 3 2 0 3 1 0 3 2 0 3 1 0 3 2 0 3 1\n",
            " 0 3 2 0 3 1 0 3 2 0 3 1 0 3 2 0 3 1 0 3 2 0 3 1 0 3 2 0 3 1 0 3 2 0 3 1 0\n",
            " 3 2 0 3 1 0 3 2 0 3 1 0 3 2 0 1 0 3 2 0 3 1 0 3 2 0 3 1 0 3 2 0 3 1 0 3 2\n",
            " 0 3 1 0 3 2 0 3 1 0 3 2 0 3 1 0 3 2 0 3 1 0 3 2 0 3 1 0 3 2 0 3 1 0 3 2 0\n",
            " 3 1 0 3 2 0 3 1 0 3 2 0 3 1 0 3 2 0 3 1 0 3 2 0 3 1 0 3 2 0 3 1 0 3 2 0 3\n",
            " 1 0 3 2 0 3 1 0 3 2 0 3 1 0 3 2 0 3 1 0 3 2 0 3 1 0 3 2 0 3 1 0 3 2 0 3 1\n",
            " 0 3 2 0 3 1 0 3 2 0 3 1 0 3 2 0 3]\n"
          ]
        },
        {
          "output_type": "stream",
          "name": "stderr",
          "text": [
            "/usr/local/lib/python3.10/dist-packages/sklearn/cluster/_kmeans.py:870: FutureWarning: The default value of `n_init` will change from 10 to 'auto' in 1.4. Set the value of `n_init` explicitly to suppress the warning\n",
            "  warnings.warn(\n"
          ]
        }
      ]
    },
    {
      "cell_type": "markdown",
      "source": [
        "4 Clusters - 0,1,2,3"
      ],
      "metadata": {
        "id": "XB3LSd_WzAtY"
      }
    },
    {
      "cell_type": "markdown",
      "source": [
        "Visualizing all the clusters"
      ],
      "metadata": {
        "id": "BdjPUN5Qw1xe"
      }
    },
    {
      "cell_type": "code",
      "source": [
        "# plotting all the clusters and their centroids\n",
        "plt.figure(figsize=(8,8))\n",
        "plt.scatter(X[Y == 0, 0], X[Y == 0, 1], s = 50, c = 'green', label = 'Cluster 1')\n",
        "plt.scatter(X[Y == 1, 0], X[Y == 1, 1], s = 50, c = 'red', label = 'Cluster 2')\n",
        "plt.scatter(X[Y == 2, 0], X[Y == 2, 1], s = 50, c = 'yellow', label = 'Cluster 3')\n",
        "plt.scatter(X[Y == 3, 0], X[Y == 3, 1], s = 50, c = 'cyan', label = 'Cluster 4')\n",
        "\n",
        "#plot the Centriods\n",
        "plt.scatter(kmeans.cluster_centers_[:,0], kmeans.cluster_centers_[:,1], s = 100, c = 'blue', label = 'Centroids')\n",
        "\n",
        "plt.title('Customer Groups')\n",
        "plt.xlabel('Total Spend')\n",
        "plt.ylabel('Purchase Items')\n",
        "\n",
        "plt.show()"
      ],
      "metadata": {
        "colab": {
          "base_uri": "https://localhost:8080/",
          "height": 727
        },
        "id": "Toku8vXLwnlZ",
        "outputId": "1672223e-2d6e-42df-d9df-5ec41a6c0b79"
      },
      "execution_count": null,
      "outputs": [
        {
          "output_type": "display_data",
          "data": {
            "text/plain": [
              "<Figure size 800x800 with 1 Axes>"
            ],
            "image/png": "[encoded data removed]"
          },
          "metadata": {}
        }
      ]
    },
    {
      "cell_type": "code",
      "source": [
        "# overall behaviour of customers is that they are spending the money to buy the same product/items thats why datapoints of clusters are so near to eachother"
      ],
      "metadata": {
        "id": "YZR2sVPb0jty"
      },
      "execution_count": null,
      "outputs": []
    }
  ]
}